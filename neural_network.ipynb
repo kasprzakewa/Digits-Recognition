{
 "cells": [
  {
   "cell_type": "markdown",
   "id": "22843ee7-a6ca-4e97-aa8c-9cc56c94d18a",
   "metadata": {},
   "source": [
    "Celem tego zadania jest skonstruowanie sieci neuronowej klasyfikującej ręcznie napisane cyfry oraz jej odpowiednie wytrenowanie na danych ze zbioru MNIST, który jest podzielony na 60000 przykładów danych treningowych oraz 10000 przykładów danych testowych. <br>\n",
    "\n",
    "Para (x_train, y_train) zawiera pary danych treningowych oraz etykiet, natomiast (x_test, y_test) to zbiór odpowiadających sobie danych testowych i etykiet. Elementy par są typu NumPy arrays. <br>\n",
    "\n",
    "Każda dana reprezentowana jest jako macierz wymiaru 28x28, w której zapisany jest poziom jasności danego piskela.<br>\n",
    "\n",
    "Dane wejściowe są normalizowane w celu ujednolicenia zakresu cech.<br>\n",
    "\n",
    "Dodatkowo z dane trójwymiarowe dane przekształcane są na czterowymiarowe uwzględniając liczbę kanałów, czyli różnych składowych kolorów, w naszym przypadku 1, gdyż zdjęcia są w skali szarości. Dla przykładu zdjęcia kolorowe miały by 3 kanały odpowiadające barwom czerwonej, zielonej oraz niebieskiej.<br>\n",
    "\n",
    "Etykiety klas z pojedynczych wartości liczbowych zamieniane są na wektory, w których tylko jedna zmienna ustawiona jest na 1 (identyfikująca klasę etykiety), a reszta składowych ustawiona jest na 0. Dzięki temu zachwoujemy kompatybilność z funkcją straty \"categorical_crossentropy\"."
   ]
  },
  {
   "cell_type": "code",
   "execution_count": 1,
   "id": "e1a196c6-0d8f-415c-a6c9-4fb6c3f6f84a",
   "metadata": {},
   "outputs": [
    {
     "name": "stderr",
     "output_type": "stream",
     "text": [
      "2025-04-04 10:21:22.113087: I external/local_xla/xla/tsl/cuda/cudart_stub.cc:32] Could not find cuda drivers on your machine, GPU will not be used.\n",
      "2025-04-04 10:21:22.263092: I external/local_xla/xla/tsl/cuda/cudart_stub.cc:32] Could not find cuda drivers on your machine, GPU will not be used.\n",
      "2025-04-04 10:21:22.363399: E external/local_xla/xla/stream_executor/cuda/cuda_fft.cc:467] Unable to register cuFFT factory: Attempting to register factory for plugin cuFFT when one has already been registered\n",
      "WARNING: All log messages before absl::InitializeLog() is called are written to STDERR\n",
      "E0000 00:00:1743754882.470773    5037 cuda_dnn.cc:8579] Unable to register cuDNN factory: Attempting to register factory for plugin cuDNN when one has already been registered\n",
      "E0000 00:00:1743754882.499468    5037 cuda_blas.cc:1407] Unable to register cuBLAS factory: Attempting to register factory for plugin cuBLAS when one has already been registered\n",
      "W0000 00:00:1743754882.677493    5037 computation_placer.cc:177] computation placer already registered. Please check linkage and avoid linking the same target more than once.\n",
      "W0000 00:00:1743754882.677535    5037 computation_placer.cc:177] computation placer already registered. Please check linkage and avoid linking the same target more than once.\n",
      "W0000 00:00:1743754882.677537    5037 computation_placer.cc:177] computation placer already registered. Please check linkage and avoid linking the same target more than once.\n",
      "W0000 00:00:1743754882.677539    5037 computation_placer.cc:177] computation placer already registered. Please check linkage and avoid linking the same target more than once.\n",
      "2025-04-04 10:21:22.700849: I tensorflow/core/platform/cpu_feature_guard.cc:210] This TensorFlow binary is optimized to use available CPU instructions in performance-critical operations.\n",
      "To enable the following instructions: AVX2 FMA, in other operations, rebuild TensorFlow with the appropriate compiler flags.\n",
      "/home/ewa/.local/lib/python3.10/site-packages/matplotlib/projections/__init__.py:63: UserWarning: Unable to import Axes3D. This may be due to multiple versions of Matplotlib being installed (e.g. as a system package and as a pip package). As a result, the 3D projection is not available.\n",
      "  warnings.warn(\"Unable to import Axes3D. This may be due to multiple versions of \"\n"
     ]
    }
   ],
   "source": [
    "import tensorflow as tf\n",
    "from tensorflow.keras.datasets import mnist\n",
    "from tensorflow.keras.utils import to_categorical\n",
    "import os\n",
    "\n",
    "os.environ['CUDA_VISIBLE_DEVICES'] = '-1'\n",
    "\n",
    "(x_train, y_train), (x_test, y_test) = mnist.load_data()\n",
    "\n",
    "x_train, x_test = x_train / 255.0, x_test / 255.0\n",
    "\n",
    "x_train = x_train.reshape(-1, 28, 28, 1)\n",
    "x_test = x_test.reshape(-1, 28, 28, 1)\n",
    "\n",
    "y_train = to_categorical(y_train, 10)\n",
    "y_test = to_categorical(y_test, 10)"
   ]
  },
  {
   "cell_type": "markdown",
   "id": "65bd86d4-7f94-49ec-bbe7-2fc852e578ee",
   "metadata": {},
   "source": [
    "Do rozwiązania tego problemu została wykorzystana **konwolucyjna sieć neuronowa**, która działa w oparciu o splot dykretny, stworzona na wzór biologicznego mechanizmu analizowania obrazów. Można ją podzielić na:\n",
    "- **warstwy konwolucyjne** - w tych warstwach dochodzi do przesuwania niedużych filtrów, które dla aktualnie obserwowanego obszaru wyliczają splot dyskretny z kernelem (filtrem). W procesie trenowania każdy z filtrów uczony jest do wychwytywania określonych cech. Wyniki warstwy konwolucyjnej przepuszczane są przez funkcję aktywacji, u nas **relu**\n",
    "- **warstwy poolingowe** - zmniejszanie wymiaru macierzy uzyskany poprzez operacje na warstwie konwolucyjnej poprzez wybranie maksymalnej wartości z obszaru 2x2 (max pooling)\n",
    "- **warstwa w pełni połączona** - klasyczny perceptron wielowarstwowy stanowiący połaczenie wszystkich cech\n",
    "- **warstwa wyjściowa** - warstwa decyzyjna reprezentująca każdą z klas <br>\n",
    "\n",
    "Zaprojektowana sieć konwolucyjna składa się z 3 warstw konwolucyjnych o 64 filtrach rozmiaru 2x2 oraz funkcji aktywacji relu przeplatanych z warstwami poolingowymi z filtrami rozmiaru 2x2. Dodatkowo używamy mechanizmu **dropout**, który losowo opuszcza zdefiniowany procent neuronów w procesie treningowym (u nas 25%) w celu uniknięcia przeuczenia. Pomiędzy warstwami konwolucyjnymi a w pełni połączonymi dochodzi do wypłaszczenia macierzy oraz zareprezentowania ich w postaci wektora w celu dostarczenia danych wejściowych do w pełni połączonej warstwy. U nas składa się o nas z 64 neuronów z funkcją aktywacji relu oraz procentem dropoutu ustawionym na 25%. Ostatnia warstwa, wyjściowa, to 10 neuronów po jednym dla każdej z klas. Funkcją aktywacji jest tutaj funkcja **softmax** dzięki czemu suma wartości wszystkich neuronów w tej warstwie wynosi 1, co pozwala na traktowanie wyjścia jako prawdopodobieństwa przypisania obrazu do jednej z 10 klas. Model wybiera klasę z najwyższym prawdopodobieństwem."
   ]
  },
  {
   "cell_type": "code",
   "execution_count": 2,
   "id": "c054d51f-7fa8-4537-99f8-f7ddf9078737",
   "metadata": {},
   "outputs": [
    {
     "name": "stderr",
     "output_type": "stream",
     "text": [
      "2025-04-04 10:21:31.431781: E external/local_xla/xla/stream_executor/cuda/cuda_platform.cc:51] failed call to cuInit: INTERNAL: CUDA error: Failed call to cuInit: CUDA_ERROR_UNKNOWN: unknown error\n"
     ]
    }
   ],
   "source": [
    "from tensorflow.keras.models import Sequential\n",
    "from tensorflow.keras.layers import Conv2D, MaxPooling2D, Flatten, Dense, Dropout, Input\n",
    "\n",
    "model = Sequential([\n",
    "    Input(shape=(28,28,1)),\n",
    "    Conv2D(64, (2,2), activation='relu'),\n",
    "    MaxPooling2D(pool_size=(2,2)),\n",
    "    Dropout(0.25),\n",
    "    \n",
    "    Conv2D(64, (2,2), activation='relu'),\n",
    "    MaxPooling2D(pool_size=(2,2)),\n",
    "    Dropout(0.25),\n",
    "    \n",
    "    Conv2D(64, (2,2), activation='relu'),\n",
    "    Dropout(0.25),\n",
    "    \n",
    "    Flatten(),\n",
    "    Dense(64, activation='relu'),\n",
    "    Dropout(0.25),\n",
    "    Dense(10, activation='softmax')\n",
    "])"
   ]
  },
  {
   "cell_type": "markdown",
   "id": "a1945928-de26-47e2-8dc3-d97b0496723b",
   "metadata": {},
   "source": [
    "Do wytrenowania modelu został użyty optymalizator **Adam**, czyli algorytm dostosowujący wagi w trackie uczenia. Użytą funkcją straty jest **categorical cross entropy**, która mierzy, jak bardzo przewidywane prawdopodobieństwa różnią się od rzeczywistych etykiet. <br>\n",
    "\n",
    "W procesie uczenia model 50 razy przechodzi przez te same dane, przetwarzając na raz 128 próbek danych oraz porównując z danymi testowymi w celu uniknięcia przeuczenia na danych treningowych."
   ]
  },
  {
   "cell_type": "code",
   "execution_count": 3,
   "id": "34a2b862-7cff-4db0-aa29-0ac37751911d",
   "metadata": {},
   "outputs": [
    {
     "name": "stdout",
     "output_type": "stream",
     "text": [
      "Epoch 1/50\n",
      "\u001b[1m469/469\u001b[0m \u001b[32m━━━━━━━━━━━━━━━━━━━━\u001b[0m\u001b[37m\u001b[0m \u001b[1m28s\u001b[0m 57ms/step - accuracy: 0.7463 - loss: 0.7559 - val_accuracy: 0.9750 - val_loss: 0.0811\n",
      "Epoch 2/50\n",
      "\u001b[1m469/469\u001b[0m \u001b[32m━━━━━━━━━━━━━━━━━━━━\u001b[0m\u001b[37m\u001b[0m \u001b[1m25s\u001b[0m 54ms/step - accuracy: 0.9591 - loss: 0.1334 - val_accuracy: 0.9841 - val_loss: 0.0496\n",
      "Epoch 3/50\n",
      "\u001b[1m469/469\u001b[0m \u001b[32m━━━━━━━━━━━━━━━━━━━━\u001b[0m\u001b[37m\u001b[0m \u001b[1m25s\u001b[0m 54ms/step - accuracy: 0.9709 - loss: 0.0970 - val_accuracy: 0.9875 - val_loss: 0.0385\n",
      "Epoch 4/50\n",
      "\u001b[1m469/469\u001b[0m \u001b[32m━━━━━━━━━━━━━━━━━━━━\u001b[0m\u001b[37m\u001b[0m \u001b[1m25s\u001b[0m 54ms/step - accuracy: 0.9767 - loss: 0.0742 - val_accuracy: 0.9892 - val_loss: 0.0342\n",
      "Epoch 5/50\n",
      "\u001b[1m469/469\u001b[0m \u001b[32m━━━━━━━━━━━━━━━━━━━━\u001b[0m\u001b[37m\u001b[0m \u001b[1m25s\u001b[0m 53ms/step - accuracy: 0.9793 - loss: 0.0663 - val_accuracy: 0.9890 - val_loss: 0.0333\n",
      "Epoch 6/50\n",
      "\u001b[1m469/469\u001b[0m \u001b[32m━━━━━━━━━━━━━━━━━━━━\u001b[0m\u001b[37m\u001b[0m \u001b[1m25s\u001b[0m 54ms/step - accuracy: 0.9820 - loss: 0.0590 - val_accuracy: 0.9908 - val_loss: 0.0282\n",
      "Epoch 7/50\n",
      "\u001b[1m469/469\u001b[0m \u001b[32m━━━━━━━━━━━━━━━━━━━━\u001b[0m\u001b[37m\u001b[0m \u001b[1m25s\u001b[0m 54ms/step - accuracy: 0.9851 - loss: 0.0481 - val_accuracy: 0.9908 - val_loss: 0.0276\n",
      "Epoch 8/50\n",
      "\u001b[1m469/469\u001b[0m \u001b[32m━━━━━━━━━━━━━━━━━━━━\u001b[0m\u001b[37m\u001b[0m \u001b[1m25s\u001b[0m 54ms/step - accuracy: 0.9853 - loss: 0.0467 - val_accuracy: 0.9913 - val_loss: 0.0267\n",
      "Epoch 9/50\n",
      "\u001b[1m469/469\u001b[0m \u001b[32m━━━━━━━━━━━━━━━━━━━━\u001b[0m\u001b[37m\u001b[0m \u001b[1m25s\u001b[0m 54ms/step - accuracy: 0.9865 - loss: 0.0434 - val_accuracy: 0.9919 - val_loss: 0.0256\n",
      "Epoch 10/50\n",
      "\u001b[1m469/469\u001b[0m \u001b[32m━━━━━━━━━━━━━━━━━━━━\u001b[0m\u001b[37m\u001b[0m \u001b[1m25s\u001b[0m 54ms/step - accuracy: 0.9875 - loss: 0.0405 - val_accuracy: 0.9909 - val_loss: 0.0283\n",
      "Epoch 11/50\n",
      "\u001b[1m469/469\u001b[0m \u001b[32m━━━━━━━━━━━━━━━━━━━━\u001b[0m\u001b[37m\u001b[0m \u001b[1m25s\u001b[0m 54ms/step - accuracy: 0.9874 - loss: 0.0409 - val_accuracy: 0.9914 - val_loss: 0.0237\n",
      "Epoch 12/50\n",
      "\u001b[1m469/469\u001b[0m \u001b[32m━━━━━━━━━━━━━━━━━━━━\u001b[0m\u001b[37m\u001b[0m \u001b[1m25s\u001b[0m 54ms/step - accuracy: 0.9889 - loss: 0.0383 - val_accuracy: 0.9928 - val_loss: 0.0227\n",
      "Epoch 13/50\n",
      "\u001b[1m469/469\u001b[0m \u001b[32m━━━━━━━━━━━━━━━━━━━━\u001b[0m\u001b[37m\u001b[0m \u001b[1m25s\u001b[0m 54ms/step - accuracy: 0.9879 - loss: 0.0378 - val_accuracy: 0.9920 - val_loss: 0.0239\n",
      "Epoch 14/50\n",
      "\u001b[1m469/469\u001b[0m \u001b[32m━━━━━━━━━━━━━━━━━━━━\u001b[0m\u001b[37m\u001b[0m \u001b[1m25s\u001b[0m 54ms/step - accuracy: 0.9883 - loss: 0.0349 - val_accuracy: 0.9929 - val_loss: 0.0226\n",
      "Epoch 15/50\n",
      "\u001b[1m469/469\u001b[0m \u001b[32m━━━━━━━━━━━━━━━━━━━━\u001b[0m\u001b[37m\u001b[0m \u001b[1m25s\u001b[0m 54ms/step - accuracy: 0.9893 - loss: 0.0323 - val_accuracy: 0.9940 - val_loss: 0.0205\n",
      "Epoch 16/50\n",
      "\u001b[1m469/469\u001b[0m \u001b[32m━━━━━━━━━━━━━━━━━━━━\u001b[0m\u001b[37m\u001b[0m \u001b[1m26s\u001b[0m 55ms/step - accuracy: 0.9911 - loss: 0.0282 - val_accuracy: 0.9925 - val_loss: 0.0228\n",
      "Epoch 17/50\n",
      "\u001b[1m469/469\u001b[0m \u001b[32m━━━━━━━━━━━━━━━━━━━━\u001b[0m\u001b[37m\u001b[0m \u001b[1m26s\u001b[0m 54ms/step - accuracy: 0.9905 - loss: 0.0292 - val_accuracy: 0.9916 - val_loss: 0.0267\n",
      "Epoch 18/50\n",
      "\u001b[1m469/469\u001b[0m \u001b[32m━━━━━━━━━━━━━━━━━━━━\u001b[0m\u001b[37m\u001b[0m \u001b[1m26s\u001b[0m 55ms/step - accuracy: 0.9912 - loss: 0.0281 - val_accuracy: 0.9927 - val_loss: 0.0227\n",
      "Epoch 19/50\n",
      "\u001b[1m469/469\u001b[0m \u001b[32m━━━━━━━━━━━━━━━━━━━━\u001b[0m\u001b[37m\u001b[0m \u001b[1m26s\u001b[0m 55ms/step - accuracy: 0.9912 - loss: 0.0261 - val_accuracy: 0.9937 - val_loss: 0.0210\n",
      "Epoch 20/50\n",
      "\u001b[1m469/469\u001b[0m \u001b[32m━━━━━━━━━━━━━━━━━━━━\u001b[0m\u001b[37m\u001b[0m \u001b[1m25s\u001b[0m 54ms/step - accuracy: 0.9914 - loss: 0.0270 - val_accuracy: 0.9936 - val_loss: 0.0238\n",
      "Epoch 21/50\n",
      "\u001b[1m469/469\u001b[0m \u001b[32m━━━━━━━━━━━━━━━━━━━━\u001b[0m\u001b[37m\u001b[0m \u001b[1m26s\u001b[0m 55ms/step - accuracy: 0.9910 - loss: 0.0277 - val_accuracy: 0.9928 - val_loss: 0.0265\n",
      "Epoch 22/50\n",
      "\u001b[1m469/469\u001b[0m \u001b[32m━━━━━━━━━━━━━━━━━━━━\u001b[0m\u001b[37m\u001b[0m \u001b[1m26s\u001b[0m 55ms/step - accuracy: 0.9914 - loss: 0.0258 - val_accuracy: 0.9931 - val_loss: 0.0231\n",
      "Epoch 23/50\n",
      "\u001b[1m469/469\u001b[0m \u001b[32m━━━━━━━━━━━━━━━━━━━━\u001b[0m\u001b[37m\u001b[0m \u001b[1m26s\u001b[0m 54ms/step - accuracy: 0.9920 - loss: 0.0227 - val_accuracy: 0.9931 - val_loss: 0.0228\n",
      "Epoch 24/50\n",
      "\u001b[1m469/469\u001b[0m \u001b[32m━━━━━━━━━━━━━━━━━━━━\u001b[0m\u001b[37m\u001b[0m \u001b[1m26s\u001b[0m 55ms/step - accuracy: 0.9924 - loss: 0.0224 - val_accuracy: 0.9934 - val_loss: 0.0225\n",
      "Epoch 25/50\n",
      "\u001b[1m469/469\u001b[0m \u001b[32m━━━━━━━━━━━━━━━━━━━━\u001b[0m\u001b[37m\u001b[0m \u001b[1m26s\u001b[0m 55ms/step - accuracy: 0.9918 - loss: 0.0255 - val_accuracy: 0.9925 - val_loss: 0.0264\n",
      "Epoch 26/50\n",
      "\u001b[1m469/469\u001b[0m \u001b[32m━━━━━━━━━━━━━━━━━━━━\u001b[0m\u001b[37m\u001b[0m \u001b[1m25s\u001b[0m 54ms/step - accuracy: 0.9924 - loss: 0.0221 - val_accuracy: 0.9933 - val_loss: 0.0205\n",
      "Epoch 27/50\n",
      "\u001b[1m469/469\u001b[0m \u001b[32m━━━━━━━━━━━━━━━━━━━━\u001b[0m\u001b[37m\u001b[0m \u001b[1m26s\u001b[0m 55ms/step - accuracy: 0.9926 - loss: 0.0209 - val_accuracy: 0.9935 - val_loss: 0.0226\n",
      "Epoch 28/50\n",
      "\u001b[1m469/469\u001b[0m \u001b[32m━━━━━━━━━━━━━━━━━━━━\u001b[0m\u001b[37m\u001b[0m \u001b[1m26s\u001b[0m 54ms/step - accuracy: 0.9931 - loss: 0.0210 - val_accuracy: 0.9937 - val_loss: 0.0220\n",
      "Epoch 29/50\n",
      "\u001b[1m469/469\u001b[0m \u001b[32m━━━━━━━━━━━━━━━━━━━━\u001b[0m\u001b[37m\u001b[0m \u001b[1m26s\u001b[0m 55ms/step - accuracy: 0.9935 - loss: 0.0196 - val_accuracy: 0.9930 - val_loss: 0.0238\n",
      "Epoch 30/50\n",
      "\u001b[1m469/469\u001b[0m \u001b[32m━━━━━━━━━━━━━━━━━━━━\u001b[0m\u001b[37m\u001b[0m \u001b[1m26s\u001b[0m 54ms/step - accuracy: 0.9928 - loss: 0.0225 - val_accuracy: 0.9929 - val_loss: 0.0238\n",
      "Epoch 31/50\n",
      "\u001b[1m469/469\u001b[0m \u001b[32m━━━━━━━━━━━━━━━━━━━━\u001b[0m\u001b[37m\u001b[0m \u001b[1m26s\u001b[0m 55ms/step - accuracy: 0.9933 - loss: 0.0197 - val_accuracy: 0.9936 - val_loss: 0.0242\n",
      "Epoch 32/50\n",
      "\u001b[1m469/469\u001b[0m \u001b[32m━━━━━━━━━━━━━━━━━━━━\u001b[0m\u001b[37m\u001b[0m \u001b[1m26s\u001b[0m 55ms/step - accuracy: 0.9932 - loss: 0.0202 - val_accuracy: 0.9942 - val_loss: 0.0249\n",
      "Epoch 33/50\n",
      "\u001b[1m469/469\u001b[0m \u001b[32m━━━━━━━━━━━━━━━━━━━━\u001b[0m\u001b[37m\u001b[0m \u001b[1m26s\u001b[0m 55ms/step - accuracy: 0.9934 - loss: 0.0212 - val_accuracy: 0.9945 - val_loss: 0.0207\n",
      "Epoch 34/50\n",
      "\u001b[1m469/469\u001b[0m \u001b[32m━━━━━━━━━━━━━━━━━━━━\u001b[0m\u001b[37m\u001b[0m \u001b[1m26s\u001b[0m 55ms/step - accuracy: 0.9936 - loss: 0.0186 - val_accuracy: 0.9936 - val_loss: 0.0235\n",
      "Epoch 35/50\n",
      "\u001b[1m469/469\u001b[0m \u001b[32m━━━━━━━━━━━━━━━━━━━━\u001b[0m\u001b[37m\u001b[0m \u001b[1m26s\u001b[0m 55ms/step - accuracy: 0.9936 - loss: 0.0192 - val_accuracy: 0.9936 - val_loss: 0.0237\n",
      "Epoch 36/50\n",
      "\u001b[1m469/469\u001b[0m \u001b[32m━━━━━━━━━━━━━━━━━━━━\u001b[0m\u001b[37m\u001b[0m \u001b[1m26s\u001b[0m 55ms/step - accuracy: 0.9931 - loss: 0.0197 - val_accuracy: 0.9938 - val_loss: 0.0271\n",
      "Epoch 37/50\n",
      "\u001b[1m469/469\u001b[0m \u001b[32m━━━━━━━━━━━━━━━━━━━━\u001b[0m\u001b[37m\u001b[0m \u001b[1m26s\u001b[0m 55ms/step - accuracy: 0.9936 - loss: 0.0195 - val_accuracy: 0.9932 - val_loss: 0.0257\n",
      "Epoch 38/50\n",
      "\u001b[1m469/469\u001b[0m \u001b[32m━━━━━━━━━━━━━━━━━━━━\u001b[0m\u001b[37m\u001b[0m \u001b[1m26s\u001b[0m 55ms/step - accuracy: 0.9941 - loss: 0.0182 - val_accuracy: 0.9928 - val_loss: 0.0274\n",
      "Epoch 39/50\n",
      "\u001b[1m469/469\u001b[0m \u001b[32m━━━━━━━━━━━━━━━━━━━━\u001b[0m\u001b[37m\u001b[0m \u001b[1m26s\u001b[0m 55ms/step - accuracy: 0.9934 - loss: 0.0202 - val_accuracy: 0.9928 - val_loss: 0.0265\n",
      "Epoch 40/50\n",
      "\u001b[1m469/469\u001b[0m \u001b[32m━━━━━━━━━━━━━━━━━━━━\u001b[0m\u001b[37m\u001b[0m \u001b[1m26s\u001b[0m 55ms/step - accuracy: 0.9940 - loss: 0.0182 - val_accuracy: 0.9929 - val_loss: 0.0255\n",
      "Epoch 41/50\n",
      "\u001b[1m469/469\u001b[0m \u001b[32m━━━━━━━━━━━━━━━━━━━━\u001b[0m\u001b[37m\u001b[0m \u001b[1m26s\u001b[0m 55ms/step - accuracy: 0.9938 - loss: 0.0179 - val_accuracy: 0.9927 - val_loss: 0.0251\n",
      "Epoch 42/50\n",
      "\u001b[1m469/469\u001b[0m \u001b[32m━━━━━━━━━━━━━━━━━━━━\u001b[0m\u001b[37m\u001b[0m \u001b[1m26s\u001b[0m 55ms/step - accuracy: 0.9938 - loss: 0.0177 - val_accuracy: 0.9924 - val_loss: 0.0262\n",
      "Epoch 43/50\n",
      "\u001b[1m469/469\u001b[0m \u001b[32m━━━━━━━━━━━━━━━━━━━━\u001b[0m\u001b[37m\u001b[0m \u001b[1m26s\u001b[0m 55ms/step - accuracy: 0.9940 - loss: 0.0172 - val_accuracy: 0.9928 - val_loss: 0.0255\n",
      "Epoch 44/50\n",
      "\u001b[1m469/469\u001b[0m \u001b[32m━━━━━━━━━━━━━━━━━━━━\u001b[0m\u001b[37m\u001b[0m \u001b[1m26s\u001b[0m 55ms/step - accuracy: 0.9945 - loss: 0.0156 - val_accuracy: 0.9926 - val_loss: 0.0291\n",
      "Epoch 45/50\n",
      "\u001b[1m469/469\u001b[0m \u001b[32m━━━━━━━━━━━━━━━━━━━━\u001b[0m\u001b[37m\u001b[0m \u001b[1m26s\u001b[0m 55ms/step - accuracy: 0.9944 - loss: 0.0155 - val_accuracy: 0.9937 - val_loss: 0.0250\n",
      "Epoch 46/50\n",
      "\u001b[1m469/469\u001b[0m \u001b[32m━━━━━━━━━━━━━━━━━━━━\u001b[0m\u001b[37m\u001b[0m \u001b[1m26s\u001b[0m 55ms/step - accuracy: 0.9943 - loss: 0.0152 - val_accuracy: 0.9929 - val_loss: 0.0253\n",
      "Epoch 47/50\n",
      "\u001b[1m469/469\u001b[0m \u001b[32m━━━━━━━━━━━━━━━━━━━━\u001b[0m\u001b[37m\u001b[0m \u001b[1m26s\u001b[0m 56ms/step - accuracy: 0.9938 - loss: 0.0181 - val_accuracy: 0.9935 - val_loss: 0.0252\n",
      "Epoch 48/50\n",
      "\u001b[1m469/469\u001b[0m \u001b[32m━━━━━━━━━━━━━━━━━━━━\u001b[0m\u001b[37m\u001b[0m \u001b[1m26s\u001b[0m 55ms/step - accuracy: 0.9946 - loss: 0.0169 - val_accuracy: 0.9923 - val_loss: 0.0321\n",
      "Epoch 49/50\n",
      "\u001b[1m469/469\u001b[0m \u001b[32m━━━━━━━━━━━━━━━━━━━━\u001b[0m\u001b[37m\u001b[0m \u001b[1m26s\u001b[0m 56ms/step - accuracy: 0.9945 - loss: 0.0165 - val_accuracy: 0.9942 - val_loss: 0.0249\n",
      "Epoch 50/50\n",
      "\u001b[1m469/469\u001b[0m \u001b[32m━━━━━━━━━━━━━━━━━━━━\u001b[0m\u001b[37m\u001b[0m \u001b[1m26s\u001b[0m 56ms/step - accuracy: 0.9942 - loss: 0.0171 - val_accuracy: 0.9933 - val_loss: 0.0249\n"
     ]
    },
    {
     "ename": "AttributeError",
     "evalue": "module 'tensorflow.keras' has no attribute 'model'",
     "output_type": "error",
     "traceback": [
      "\u001b[0;31m---------------------------------------------------------------------------\u001b[0m",
      "\u001b[0;31mAttributeError\u001b[0m                            Traceback (most recent call last)",
      "Cell \u001b[0;32mIn[3], line 3\u001b[0m\n\u001b[1;32m      1\u001b[0m model\u001b[38;5;241m.\u001b[39mcompile(optimizer\u001b[38;5;241m=\u001b[39m\u001b[38;5;124m'\u001b[39m\u001b[38;5;124madam\u001b[39m\u001b[38;5;124m'\u001b[39m, loss\u001b[38;5;241m=\u001b[39m\u001b[38;5;124m'\u001b[39m\u001b[38;5;124mcategorical_crossentropy\u001b[39m\u001b[38;5;124m'\u001b[39m, metrics\u001b[38;5;241m=\u001b[39m[\u001b[38;5;124m'\u001b[39m\u001b[38;5;124maccuracy\u001b[39m\u001b[38;5;124m'\u001b[39m])\n\u001b[1;32m      2\u001b[0m model\u001b[38;5;241m.\u001b[39mfit(x_train, y_train, epochs\u001b[38;5;241m=\u001b[39m\u001b[38;5;241m50\u001b[39m, batch_size\u001b[38;5;241m=\u001b[39m\u001b[38;5;241m128\u001b[39m, validation_data\u001b[38;5;241m=\u001b[39m(x_test, y_test))\n\u001b[0;32m----> 3\u001b[0m \u001b[43mtf\u001b[49m\u001b[38;5;241;43m.\u001b[39;49m\u001b[43mkeras\u001b[49m\u001b[38;5;241;43m.\u001b[39;49m\u001b[43mmodel\u001b[49m\u001b[38;5;241m.\u001b[39msave_model(model, \u001b[38;5;124m\"\u001b[39m\u001b[38;5;124mmnist.keras\u001b[39m\u001b[38;5;124m\"\u001b[39m)\n",
      "\u001b[0;31mAttributeError\u001b[0m: module 'tensorflow.keras' has no attribute 'model'"
     ]
    }
   ],
   "source": [
    "model.compile(optimizer='adam', loss='categorical_crossentropy', metrics=['accuracy'])\n",
    "model.fit(x_train, y_train, epochs=50, batch_size=128, validation_data=(x_test, y_test))"
   ]
  },
  {
   "cell_type": "code",
   "execution_count": 15,
   "id": "d5ae24fa-2112-4dd6-b82e-73f9094ba2b1",
   "metadata": {},
   "outputs": [
    {
     "name": "stdout",
     "output_type": "stream",
     "text": [
      "\u001b[1m313/313\u001b[0m \u001b[32m━━━━━━━━━━━━━━━━━━━━\u001b[0m\u001b[37m\u001b[0m \u001b[1m2s\u001b[0m 5ms/step\n",
      "              precision    recall  f1-score   support\n",
      "\n",
      "           0       0.99      1.00      1.00       980\n",
      "           1       0.99      1.00      1.00      1135\n",
      "           2       0.99      1.00      0.99      1032\n",
      "           3       1.00      0.99      0.99      1010\n",
      "           4       0.99      0.99      0.99       982\n",
      "           5       0.99      0.99      0.99       892\n",
      "           6       1.00      0.99      0.99       958\n",
      "           7       0.99      0.99      0.99      1028\n",
      "           8       1.00      0.99      0.99       974\n",
      "           9       0.99      0.99      0.99      1009\n",
      "\n",
      "    accuracy                           0.99     10000\n",
      "   macro avg       0.99      0.99      0.99     10000\n",
      "weighted avg       0.99      0.99      0.99     10000\n",
      "\n",
      "[[ 978    0    0    0    0    0    1    0    0    1]\n",
      " [   0 1133    1    0    0    0    0    1    0    0]\n",
      " [   1    1 1028    0    0    0    0    1    1    0]\n",
      " [   0    0    1 1003    0    4    0    1    1    0]\n",
      " [   0    0    0    0  976    0    1    0    0    5]\n",
      " [   1    0    0    3    0  887    1    0    0    0]\n",
      " [   2    4    0    0    1    3  948    0    0    0]\n",
      " [   0    1    5    0    0    0    0 1020    1    1]\n",
      " [   3    0    1    1    0    1    0    0  966    2]\n",
      " [   0    0    0    1    5    5    0    3    1  994]]\n"
     ]
    }
   ],
   "source": [
    "from sklearn.metrics import classification_report, confusion_matrix\n",
    "import numpy as np\n",
    "\n",
    "y_pred = model.predict(x_test)\n",
    "y_pred_classes = np.argmax(y_pred, axis=1)\n",
    "y_true = np.argmax(y_test, axis=1)\n",
    "\n",
    "print(classification_report(y_true, y_pred_classes))\n",
    "conf_matrix = confusion_matrix(y_true, y_pred_classes)\n",
    "print(conf_matrix)"
   ]
  },
  {
   "cell_type": "markdown",
   "id": "7dc58eec-4e57-4c0b-9422-aa7886dac854",
   "metadata": {},
   "source": [
    "W celu weryfikacji modelu dostarczone zostały dane testowe spoza zbioru MNIST (stworzone własnoręcznie). W celu wykorzystania ich do ewaluacji modelu należy je najpierw oetykietować."
   ]
  },
  {
   "cell_type": "code",
   "execution_count": 16,
   "id": "83c7a356-5141-446f-a108-14383b436751",
   "metadata": {},
   "outputs": [
    {
     "name": "stdin",
     "output_type": "stream",
     "text": [
      "Enter label for eightc.jpg:  8\n",
      "Enter label for zerob.jpg:  0\n",
      "Enter label for oned.jpg:  1\n",
      "Enter label for ninec.jpg:  9\n",
      "Enter label for zerod.jpg:  0\n",
      "Enter label for sevena.jpg:  7\n",
      "Enter label for zeroa.jpg:  0\n",
      "Enter label for twoe.jpg:  2\n",
      "Enter label for twod.jpg:  2\n",
      "Enter label for sixd.jpg:  6\n",
      "Enter label for zeroc.jpg:  0\n",
      "Enter label for sixe.jpg:  6\n",
      "Enter label for threea.jpg:  3\n",
      "Enter label for threed.jpg:  3\n",
      "Enter label for threee.jpg:  3\n",
      "Enter label for twob.jpg:  2\n",
      "Enter label for eightd.jpg:  8\n",
      "Enter label for threec.jpg:  3\n",
      "Enter label for sevenb.jpg:  7\n",
      "Enter label for eighte.jpg:  8\n",
      "Enter label for nineb.jpg:  9\n",
      "Enter label for twoc.jpg:  2\n",
      "Enter label for zeroe.jpg:  0\n",
      "Enter label for sevene.jpg:  7\n",
      "Enter label for fivee.jpg:  5\n",
      "Enter label for foure.jpg:  4\n",
      "Enter label for oneb.jpg:  1\n",
      "Enter label for eighta.jpg:  8\n",
      "Enter label for twoa.jpg:  2\n",
      "Enter label for threeb.jpg:  3\n",
      "Enter label for onec.jpg:  1\n",
      "Enter label for ninea.jpg:  9\n",
      "Enter label for fourd.jpg:  4\n",
      "Enter label for fiveb.jpg:  5\n",
      "Enter label for onea.jpg:  1\n",
      "Enter label for fourc.jpg:  4\n",
      "Enter label for fivec.jpg:  5\n",
      "Enter label for sixa.jpg:  6\n",
      "Enter label for sevenc.jpg:  7\n",
      "Enter label for ninee.jpg:  9\n",
      "Enter label for sevend.jpg:  7\n",
      "Enter label for foura.jpg:  4\n",
      "Enter label for eightb.jpg:  8\n",
      "Enter label for nined.jpg:  9\n",
      "Enter label for sixb.jpg:  6\n",
      "Enter label for fivea.jpg:  5\n",
      "Enter label for sixc.jpg:  6\n",
      "Enter label for onee.jpg:  1\n",
      "Enter label for fived.jpg:  5\n",
      "Enter label for fourb.jpg:  4\n"
     ]
    }
   ],
   "source": [
    "import cv2\n",
    "import numpy as np\n",
    "import matplotlib.pyplot as plt\n",
    "import seaborn as sns\n",
    "\n",
    "image_files = [f for f in os.listdir(\"data/\") if f.endswith('.jpg')]\n",
    "\n",
    "labels = {}\n",
    "for img_name in image_files:\n",
    "    label = input(f\"Enter label for {img_name}: \")\n",
    "    labels[img_name] = label\n",
    "\n",
    "with open('labels.txt', 'w') as f:\n",
    "    for img_name, label in labels.items():\n",
    "        f.write(f\"{img_name} {label}\\n\")"
   ]
  },
  {
   "cell_type": "code",
   "execution_count": 17,
   "id": "9f067f45-a2cb-43ef-8446-faebfd68aec4",
   "metadata": {},
   "outputs": [],
   "source": [
    "label_map = {\n",
    "    \"0\": 0,\n",
    "    \"1\": 1,\n",
    "    \"2\": 2,\n",
    "    \"3\": 3,\n",
    "    \"4\": 4,\n",
    "    \"5\": 5,\n",
    "    \"6\": 6,\n",
    "    \"7\": 7,\n",
    "    \"8\": 8,\n",
    "    \"9\": 9\n",
    "}\n",
    "\n",
    "y_true = np.array([labels[image_file] for image_file in image_files])\n",
    "y_true_numeric = [label_map[label] for label in y_true]"
   ]
  },
  {
   "cell_type": "code",
   "execution_count": 18,
   "id": "4491aae9-befe-49db-abc8-7b65724aed93",
   "metadata": {},
   "outputs": [
    {
     "name": "stdout",
     "output_type": "stream",
     "text": [
      "\u001b[1m2/2\u001b[0m \u001b[32m━━━━━━━━━━━━━━━━━━━━\u001b[0m\u001b[37m\u001b[0m \u001b[1m0s\u001b[0m 27ms/step\n"
     ]
    }
   ],
   "source": [
    "def preprocess_image(image_path):\n",
    "    img = cv2.imread(image_path, cv2.IMREAD_GRAYSCALE)\n",
    "    img = cv2.resize(img, (28, 28))\n",
    "    img = img / 255.0\n",
    "    img = img.reshape(28, 28, 1)\n",
    "    return img\n",
    "\n",
    "X_test = np.array([preprocess_image(os.path.join(\"data/\", f)) for f in image_files])\n",
    "\n",
    "y_pred = np.argmax(model.predict(X_test), axis=1)"
   ]
  },
  {
   "cell_type": "code",
   "execution_count": 23,
   "id": "f6e40688-7a3d-4748-82c8-3538b05ee1af",
   "metadata": {},
   "outputs": [
    {
     "name": "stderr",
     "output_type": "stream",
     "text": [
      "/home/ewa/.local/lib/python3.10/site-packages/sklearn/metrics/_classification.py:1509: UndefinedMetricWarning: Precision is ill-defined and being set to 0.0 in labels with no predicted samples. Use `zero_division` parameter to control this behavior.\n",
      "  _warn_prf(average, modifier, f\"{metric.capitalize()} is\", len(result))\n",
      "/home/ewa/.local/lib/python3.10/site-packages/sklearn/metrics/_classification.py:1509: UndefinedMetricWarning: Precision is ill-defined and being set to 0.0 in labels with no predicted samples. Use `zero_division` parameter to control this behavior.\n",
      "  _warn_prf(average, modifier, f\"{metric.capitalize()} is\", len(result))\n",
      "/home/ewa/.local/lib/python3.10/site-packages/sklearn/metrics/_classification.py:1509: UndefinedMetricWarning: Precision is ill-defined and being set to 0.0 in labels with no predicted samples. Use `zero_division` parameter to control this behavior.\n",
      "  _warn_prf(average, modifier, f\"{metric.capitalize()} is\", len(result))\n"
     ]
    },
    {
     "name": "stdout",
     "output_type": "stream",
     "text": [
      "              precision    recall  f1-score   support\n",
      "\n",
      "           0       0.71      1.00      0.83         5\n",
      "           1       0.28      1.00      0.43         5\n",
      "           2       0.80      0.80      0.80         5\n",
      "           3       0.80      0.80      0.80         5\n",
      "           4       0.00      0.00      0.00         5\n",
      "           5       0.25      0.40      0.31         5\n",
      "           6       0.00      0.00      0.00         5\n",
      "           7       1.00      0.20      0.33         5\n",
      "           8       0.00      0.00      0.00         5\n",
      "           9       0.50      0.60      0.55         5\n",
      "\n",
      "    accuracy                           0.48        50\n",
      "   macro avg       0.43      0.48      0.41        50\n",
      "weighted avg       0.43      0.48      0.41        50\n",
      "\n",
      "[[5 0 0 0 0 0 0 0 0 0]\n",
      " [0 5 0 0 0 0 0 0 0 0]\n",
      " [0 1 4 0 0 0 0 0 0 0]\n",
      " [1 0 0 4 0 0 0 0 0 0]\n",
      " [0 5 0 0 0 0 0 0 0 0]\n",
      " [0 0 0 0 0 2 0 0 0 3]\n",
      " [1 0 0 0 0 4 0 0 0 0]\n",
      " [0 3 1 0 0 0 0 1 0 0]\n",
      " [0 2 0 1 0 2 0 0 0 0]\n",
      " [0 2 0 0 0 0 0 0 0 3]]\n"
     ]
    },
    {
     "data": {
      "image/png": "[encoded data removed]",
      "text/plain": [
       "<Figure size 800x600 with 2 Axes>"
      ]
     },
     "metadata": {},
     "output_type": "display_data"
    }
   ],
   "source": [
    "from sklearn.metrics import classification_report\n",
    "import matplotlib.pyplot as plt\n",
    "import seaborn as sns\n",
    "\n",
    "print(classification_report(y_true_numeric, y_pred))\n",
    "conf_matrix = confusion_matrix(y_true_numeric, y_pred)\n",
    "print(conf_matrix)\n",
    "plt.figure(figsize=(8, 6))\n",
    "sns.heatmap(conf_matrix, annot=True, fmt='d', cmap='Blues', xticklabels=range(10), yticklabels=range(10))\n",
    "plt.ylabel('True label')\n",
    "plt.xlabel('Predicted label')\n",
    "plt.title('Confusion Matrix')\n",
    "plt.show()\n"
   ]
  },
  {
   "cell_type": "code",
   "execution_count": null,
   "id": "5ef2467e-3cbb-4c99-8b54-a77116d71901",
   "metadata": {},
   "outputs": [],
   "source": []
  }
 ],
 "metadata": {
  "kernelspec": {
   "display_name": "Python 3 (ipykernel)",
   "language": "python",
   "name": "python3"
  },
  "language_info": {
   "codemirror_mode": {
    "name": "ipython",
    "version": 3
   },
   "file_extension": ".py",
   "mimetype": "text/x-python",
   "name": "python",
   "nbconvert_exporter": "python",
   "pygments_lexer": "ipython3",
   "version": "3.10.12"
  }
 },
 "nbformat": 4,
 "nbformat_minor": 5
}
